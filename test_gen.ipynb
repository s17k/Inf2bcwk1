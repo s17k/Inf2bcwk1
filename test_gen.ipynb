{
 "cells": [
  {
   "cell_type": "code",
   "execution_count": 1,
   "metadata": {},
   "outputs": [],
   "source": [
    "import numpy\n",
    "import scipy.io"
   ]
  },
  {
   "cell_type": "code",
   "execution_count": 110,
   "metadata": {},
   "outputs": [],
   "source": [
    "N = 5000\n",
    "Y_species = numpy.random.randint(1,15,N)\n",
    "\n",
    "def f(x):\n",
    "    if x > 10:\n",
    "        return 7 + numpy.random.randint(0,2)\n",
    "    else:\n",
    "        return x\n",
    "    \n",
    "Y_species = numpy.fromiter((f(xi) for xi in Y_species), Y_species.dtype) \n",
    "Y_species = Y_species.reshape(-1,1)\n",
    "D = 15\n",
    "\n",
    "X = numpy.ndarray((N, D))\n",
    "\n",
    "class_coords = [(numpy.random.rand()*100, numpy.random.rand()*100) for i in range(10)]\n",
    "other_coords = [i for i in range(D) if not i in [7,8]]\n",
    "correlated_with_seven = [i for i in other_coords if i%2==1]\n",
    "correlated_with_eight = [i for i in other_coords if i not in correlated_with_seven]\n",
    "\n",
    "def generate_features(i, cl):\n",
    "    x_coord, y_coord = class_coords[cl-1]\n",
    "    x_coord = numpy.random.normal(x_coord, 10)\n",
    "    y_coord = numpy.random.normal(y_coord, 10)\n",
    "    X.itemset((i,7), x_coord)\n",
    "    X.itemset((i,8), y_coord)\n",
    "    \n",
    "    for j in correlated_with_seven:\n",
    "        X.itemset((i,j), numpy.random.normal(x_coord, 20))\n",
    "        \n",
    "    for j in correlated_with_eight:\n",
    "        X.itemset((i,j), numpy.random.normal(y_coord, 20))\n",
    "\n",
    "\n",
    "for i in range(N):\n",
    "    generate_features(i, Y_species.item(i, 0))\n",
    "\n",
    "scipy.io.savemat('test_dset.mat', dict(X=X, Y_species=Y_species))"
   ]
  },
  {
   "cell_type": "code",
   "execution_count": 101,
   "metadata": {},
   "outputs": [
    {
     "data": {
      "text/plain": [
       "array([[ 147.32004482,  124.85892674,  160.35047998, ...,  120.8756287 ,\n",
       "          41.08410268,   40.83206588],\n",
       "       [  37.25048685,  -19.08245661,   88.74559413, ...,    9.5551963 ,\n",
       "         -28.87819362,   43.28513276],\n",
       "       [  17.83008981,   41.76004759,   12.15736385, ...,  -19.33199737,\n",
       "         -51.52580493,  -77.65216012],\n",
       "       ..., \n",
       "       [ -56.58260353,   16.87515654,  -23.71951837, ...,  -73.80541922,\n",
       "         -23.02280081,   13.07885187],\n",
       "       [ -16.84290711,  165.89465361,  -56.23364411, ...,   20.32414517,\n",
       "         231.7687466 ,   27.3459936 ],\n",
       "       [  -3.64869245,   24.37770624,  -20.44635474, ...,   24.54878054,\n",
       "          52.17430916,    2.15172352]])"
      ]
     },
     "execution_count": 101,
     "metadata": {},
     "output_type": "execute_result"
    }
   ],
   "source": [
    "X"
   ]
  }
 ],
 "metadata": {
  "kernelspec": {
   "display_name": "Python 3",
   "language": "python",
   "name": "python3"
  },
  "language_info": {
   "codemirror_mode": {
    "name": "ipython",
    "version": 3
   },
   "file_extension": ".py",
   "mimetype": "text/x-python",
   "name": "python",
   "nbconvert_exporter": "python",
   "pygments_lexer": "ipython3",
   "version": "3.6.8"
  }
 },
 "nbformat": 4,
 "nbformat_minor": 2
}
