{
 "cells": [
  {
   "cell_type": "code",
   "execution_count": 224,
   "metadata": {},
   "outputs": [],
   "source": [
    "import numpy\n",
    "import scipy as spicy\n",
    "import math\n",
    "import matplotlib.pyplot as plt\n",
    "mat = spicy.io.loadmat('dset.mat', squeeze_me=True)"
   ]
  },
  {
   "cell_type": "code",
   "execution_count": 198,
   "metadata": {},
   "outputs": [],
   "source": [
    "def task1_1(X, Y):\n",
    "    N = len(X)\n",
    "    D = len(X[0])\n",
    "    \n",
    "    x_bar = X.sum((0,))/N\n",
    "    \n",
    "    X_st = [numpy.asmatrix(x-x_bar) for x in X]\n",
    "    S = sum([(x.transpose()@x).A for x in X_st])/N\n",
    "    spicy.io.savemat('t1_S.mat', dict(S=S))\n",
    "    \n",
    "    sqrtd_vrns = [math.sqrt(S.item(i,i)) for i in range(D)]\n",
    "    \n",
    "    R = [\n",
    "        S[i] / sqrtd_vrns / sqrtd_vrns[i]\n",
    "        for i in range(D)\n",
    "    ]\n",
    "    \n",
    "    spicy.io.savemat('t1_R.mat', dict(R=R))"
   ]
  },
  {
   "cell_type": "code",
   "execution_count": 235,
   "metadata": {},
   "outputs": [
    {
     "name": "stdout",
     "output_type": "stream",
     "text": [
      "[(1, 2), (11, 12), (18, 19)]\n"
     ]
    },
    {
     "data": {
      "image/png": "[encoded data removed]",
      "text/plain": [
       "<matplotlib.figure.Figure at 0x7f7c9643bc18>"
      ]
     },
     "metadata": {
      "needs_background": "light"
     },
     "output_type": "display_data"
    }
   ],
   "source": [
    "# task 1_2\n",
    "task1_1(mat['X'], mat['Y_species'])\n",
    "test_mat = spicy.io.loadmat('t1_R.mat')\n",
    "R = test_mat['R']\n",
    "#print(R)\n",
    "plt.matshow(R)\n",
    "D = len(R)\n",
    "print([(i,j) for i in range (D) for j in range(D) if (i < j and abs(R.item(i,j))>0.85)])\n",
    "plt.show()"
   ]
  },
  {
   "cell_type": "code",
   "execution_count": 246,
   "metadata": {},
   "outputs": [],
   "source": [
    "Cov = spicy.io.loadmat('t1_S.mat')['S']\n",
    "D = len(Cov)\n",
    "EVals_orig, EVecs_orig = numpy.linalg.eig(Cov)\n",
    "\n",
    "sorted_evals = sorted(zip(EVals_orig, range(D)), reverse=True)\n",
    "EVals = [EVals_orig[i] for (_,i) in sorted_evals]\n",
    "\n",
    "def norm_EV(v):\n",
    "    if v.item(0) > 0:\n",
    "        return v\n",
    "    else:\n",
    "        return -v\n",
    "\n",
    "EVecs = [norm_EV(EVecs_orig[i]) for (_,i) in sorted_evals]\n",
    "\n",
    "spicy.io.savemat('t1_EVecs.mat', dict(EVecs=EVecs))\n",
    "spicy.io.savemat('t1_EVals.mat', dict(EVals=EVals))\n",
    "\n",
    "Cumvar = [sum(EVals[:(i+1)]) for i in range(D)]\n",
    "spicy.io.savemat('t1_Cumvar.mat', dict(Cumvar=Cumvar))\n",
    "\n",
    "def calcMinDims(variance_ratio):\n",
    "    total_var = Cumvar[-1]\n",
    "    indexed_Cumvar = zip(Cumvar, range(D))\n",
    "    return min(\n",
    "        [i+1 for (cv, i) in indexed_Cumvar \\\n",
    "             if cv >= total_var * variance_ratio]\n",
    "    )\n",
    "    \n",
    "MinDims = [calcMinDims(perc/100) for perc in [70,80,90,95]]\n",
    "spicy.io.savemat('t1_MinDims.mat', dict(MinDims=MinDims))"
   ]
  },
  {
   "cell_type": "code",
   "execution_count": 247,
   "metadata": {},
   "outputs": [
    {
     "name": "stdout",
     "output_type": "stream",
     "text": [
      "[[ 3  5  7 10]]\n"
     ]
    }
   ],
   "source": [
    "testmat = spicy.io.loadmat('t1_MinDims.mat')['MinDims']\n",
    "print(testmat)"
   ]
  }
 ],
 "metadata": {
  "kernelspec": {
   "display_name": "Python 3",
   "language": "python",
   "name": "python3"
  },
  "language_info": {
   "codemirror_mode": {
    "name": "ipython",
    "version": 3
   },
   "file_extension": ".py",
   "mimetype": "text/x-python",
   "name": "python",
   "nbconvert_exporter": "python",
   "pygments_lexer": "ipython3",
   "version": "3.6.8"
  }
 },
 "nbformat": 4,
 "nbformat_minor": 2
}
