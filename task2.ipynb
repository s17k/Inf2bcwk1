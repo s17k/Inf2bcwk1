{
 "cells": [
  {
   "cell_type": "code",
   "execution_count": 2,
   "metadata": {},
   "outputs": [],
   "source": [
    "import numpy\n",
    "import scipy.io\n",
    "import math\n",
    "import matplotlib.pyplot as plt\n",
    "plt.rcParams['figure.figsize'] = [14, 14]"
   ]
  },
  {
   "cell_type": "code",
   "execution_count": 3,
   "metadata": {},
   "outputs": [],
   "source": [
    "def task2_genNeuron(W, X, applied_fun):\n",
    "    \n",
    "    # adding a column of ones \n",
    "    X_o = numpy.c_[numpy.ones(len(X)), X]\n",
    "    \n",
    "    Y = X_o @ W\n",
    "    \n",
    "    # finally return Y with whatever function g is applied\n",
    "    return numpy.apply_along_axis(applied_fun, 0, Y)"
   ]
  },
  {
   "cell_type": "code",
   "execution_count": 4,
   "metadata": {},
   "outputs": [],
   "source": [
    "def task2_hNeuron(W, X):    \n",
    "    def step(x):\n",
    "        return 1 * (x > 0)\n",
    "    return task2_genNeuron(W, X, step)\n",
    "\n",
    "def task2_sNeuron(W, X):\n",
    "    def g(x):\n",
    "        print(numpy.min(-x), numpy.max(-x))\n",
    "        return 1/(1+numpy.exp(numpy.longdouble(-x)))\n",
    "    return task2_genNeuron(W, X, g)"
   ]
  },
  {
   "cell_type": "code",
   "execution_count": 77,
   "metadata": {},
   "outputs": [
    {
     "name": "stdout",
     "output_type": "stream",
     "text": [
      "orig:   y < -4.700511036979204 * x + 24.533853223436726\n",
      "orig:   y > -1.2177989674601823 * x + 4.932418326649072\n",
      "orig:   y > -0.415106777241107 * x + 3.340816171116984\n",
      "orig:   y < 0.4081176380894294 * x + 4.418474556493729\n",
      "[[1.0, -0.19159285719085067, -0.04076000581289526], [-1.0, 0.24689693509583485, 0.2027403058246619], [-1.0, 0.1242531034272138, 0.2993280530205454], [1.0, 0.09236618495168845, -0.22632245296746664]]\n",
      "[-0.8, 0.25, 0.25, 0.25, 0.25]\n"
     ]
    },
    {
     "data": {
      "image/png": "[encoded data removed]",
      "text/plain": [
       "<matplotlib.figure.Figure at 0x7f2448c57588>"
      ]
     },
     "metadata": {
      "needs_background": "light"
     },
     "output_type": "display_data"
    }
   ],
   "source": [
    "coords2 = [(2.77561,4.26753),(2.45166, 3.90597), (2.72966, 3.25103), (2.99143, 3.33845)]\n",
    "coords = [(3.93753,6.02545), (5.62821, -1.92161), (1.98283, 2.51773), (-1.30907, 3.88422)]\n",
    "coords = coords + [coords[0]]\n",
    "coords2 = coords2 + [coords2[0]]\n",
    "\n",
    "xs = [c[0] for c in coords]\n",
    "ys = [c[1] for c in coords]\n",
    "\n",
    "xs2 = [c[0] for c in coords2]\n",
    "ys2 = [c[1] for c in coords2]\n",
    "\n",
    "first_layer = []\n",
    "for i in range(4):\n",
    "    dx = xs[i+1]-xs[i]\n",
    "    dy = ys[i+1]-ys[i]\n",
    "    a = dy/dx\n",
    "    b = ys[i] - a*xs[i]\n",
    "    print(f\"orig:   y {'<' if i in [0,3] else '>'} {a} * x + {b}\")\n",
    "    if i in [0,3]:\n",
    "        w0, wx, wy = b, a, (-1)\n",
    "    else:\n",
    "        w0, wx, wy = -b, -a, 1\n",
    "    \n",
    "    #print(f'tran:   0 < {wx}*x + {wy}*y + {w0}')\n",
    "    norm_const = max(abs(wx),abs(wy),abs(w0))\n",
    "    wx, wy, w0 = wx/norm_const, wy/norm_const, w0/norm_const\n",
    "    #print(f'stan:   0 < {wx}*x + {wy}*y + {w0}')\n",
    "    first_layer.append([w0,wx,wy])\n",
    "\n",
    "plt.plot(xs,ys)\n",
    "plt.plot(xs2,ys2)\n",
    "plt.savefig('task2_polygons.png')\n",
    "\n",
    "print(first_layer)\n",
    "upper_neuron = [-4/5, 1/4, 1/4, 1/4, 1/4]\n",
    "print(upper_neuron)"
   ]
  },
  {
   "cell_type": "code",
   "execution_count": 6,
   "metadata": {},
   "outputs": [],
   "source": [
    "# TODO !!! redo this so that A is here, not B\n",
    "\n",
    "with open('task2_hNN_A_weights.txt', 'w') as f:\n",
    "    # first layer\n",
    "    num=1\n",
    "    for w0, wx, wy in first_layer:\n",
    "        print(f'W({1},{num},{0}) : {w0}', file=f)\n",
    "        print(f'W({1},{num},{1}) : {wx}', file=f)\n",
    "        print(f'W({1},{num},{2}) : {wy}', file=f)\n",
    "        num += 1\n",
    "\n",
    "    # second layer\n",
    "    num=0\n",
    "    for w in upper_neuron:\n",
    "        print(f'W({2},{1},{num}) : {w}', file=f)\n",
    "        num += 1"
   ]
  },
  {
   "cell_type": "code",
   "execution_count": 7,
   "metadata": {},
   "outputs": [
    {
     "name": "stdout",
     "output_type": "stream",
     "text": [
      "[[0]\n",
      " [0]\n",
      " [1]\n",
      " [1]\n",
      " [0]\n",
      " [0]\n",
      " [1]]\n"
     ]
    }
   ],
   "source": [
    "def listToColV(li):\n",
    "    return numpy.asarray(li).reshape(-1,1)\n",
    "\n",
    "# task 2.4\n",
    "def task2_hNN_A(X):\n",
    "    first_layer = [[1.0, 0.9541936586843557, -0.85493703875096],\n",
    "                   [-1.0, 0.2433319217436556, 0.1032862159048711],\n",
    "                   [-1.0, -0.14275094489266318, 0.4274526978329043], \n",
    "                   [1.0, -0.265467958624089, -0.061666696980078]]\n",
    "    upper_neuron = [-0.8, 0.25, 0.25, 0.25, 0.25]\n",
    "    \n",
    "   \n",
    "    first_layer_results = [task2_hNeuron(listToColV(W), X) for W in first_layer]\n",
    "    first_layer_X = numpy.column_stack(first_layer_results)\n",
    "    final_result = task2_hNeuron(listToColV(upper_neuron), first_layer_X)\n",
    "    return final_result\n",
    "\n",
    "X_test = numpy.vstack((numpy.array((0.0, 0.0)), \n",
    "                       numpy.array((2.5, 3.3)), \n",
    "                       numpy.array((2.8, 3.6)), \n",
    "                       numpy.array((2.7, 3.5)),\n",
    "                       numpy.array((3.0, 3.4)),\n",
    "                       numpy.array((2.5, 4.0)),\n",
    "                       numpy.array((2.5, 3.9))\n",
    "                      ))\n",
    "Z = task2_hNN_A(X_test)\n",
    "print(Z)\n",
    "Zs = [z[0] for z in Z]"
   ]
  },
  {
   "cell_type": "code",
   "execution_count": 54,
   "metadata": {},
   "outputs": [
    {
     "data": {
      "image/png": "[encoded data removed]",
      "text/plain": [
       "<matplotlib.figure.Figure at 0x7f244115ada0>"
      ]
     },
     "metadata": {
      "needs_background": "light"
     },
     "output_type": "display_data"
    }
   ],
   "source": [
    "# task 2.5\n",
    "X_N, Y_N = 200, 200\n",
    "x = numpy.linspace(2.4, 3.1, X_N)\n",
    "y = numpy.linspace(3.0, 4.5, Y_N)\n",
    "\n",
    "X, Y = numpy.meshgrid(x, y)\n",
    "def in_region(x,y):\n",
    "    return task2_hNN_A(numpy.vstack((numpy.array((x,y)),))).item(0,0)\n",
    "\n",
    "Z = numpy.ndarray((Y_N, X_N))\n",
    "for i in range(Y_N):\n",
    "    for j in range(X_N):\n",
    "        Z.itemset(i,j,in_region(X.item(i,j), Y.item(i,j)))\n",
    "        \n",
    "plt.contourf(X, Y, Z)\n",
    "plt.savefig('task2_5_decision_boundaries.pdf')"
   ]
  },
  {
   "cell_type": "code",
   "execution_count": 58,
   "metadata": {},
   "outputs": [],
   "source": [
    "# task 2.6\n",
    "def task2_hNN_AB(X):\n",
    "    first_layer = [\n",
    "                    [1.0, 0.9541936586843557, -0.85493703875096], \n",
    "                    [-1.0, 0.2433319217436556, 0.1032862159048711], \n",
    "                    [-1.0, -0.14275094489266318, 0.4274526978329043], \n",
    "                    [1.0, -0.265467958624089, -0.061666696980078],\n",
    "                    [1.0, -0.19159285719085067, -0.04076000581289526], \n",
    "                    [-1.0, 0.24689693509583485, 0.2027403058246619], \n",
    "                    [-1.0, 0.1242531034272138, 0.2993280530205454], \n",
    "                    [1.0, 0.09236618495168845, -0.22632245296746664]\n",
    "    ]\n",
    "    \n",
    "    second_layer = [\n",
    "                    [-0.8, 0.25, 0.25, 0.25, 0.25, 0, 0, 0, 0], \n",
    "                    [-(1/2+1/16), 0, 0, 0, 0, 1/4, 1/8, 1/8, 1/4]\n",
    "    ]\n",
    "    \n",
    "    final_neuron = [-0.5, -1.0, 1.0]\n",
    "    \n",
    "    first_layer_results = [task2_hNeuron(listToColV(W), X) for W in first_layer]\n",
    "    first_layer_X = numpy.column_stack(first_layer_results)\n",
    "    \n",
    "    second_layer_results = [task2_hNeuron(listToColV(W), first_layer_X) for W in second_layer]\n",
    "    second_layer_X = numpy.column_stack(second_layer_results)\n",
    "    \n",
    "    final_result = task2_hNeuron(listToColV(final_neuron), second_layer_X)\n",
    "    \n",
    "    return final_result"
   ]
  },
  {
   "cell_type": "code",
   "execution_count": 59,
   "metadata": {},
   "outputs": [
    {
     "data": {
      "image/png": "[encoded data removed]",
      "text/plain": [
       "<matplotlib.figure.Figure at 0x7f244da29f60>"
      ]
     },
     "metadata": {
      "needs_background": "light"
     },
     "output_type": "display_data"
    }
   ],
   "source": [
    "# task 2.7\n",
    "X_N, Y_N = 2000, 2000\n",
    "x = numpy.linspace(-2, 7, X_N)\n",
    "y = numpy.linspace(-2, 7, Y_N)\n",
    "\n",
    "X, Y = numpy.meshgrid(x, y)\n",
    "\n",
    "X_grid = []\n",
    "for i in range(Y_N):\n",
    "    for j in range(X_N):\n",
    "        X_grid.append([X.item(i,j), Y.item(i,j)])\n",
    "\n",
    "X_grid = numpy.asarray(X_grid)\n",
    "Y_grid = task2_hNN_AB(X_grid)\n",
    "\n",
    "Z = Y_grid.reshape((Y_N, X_N))\n",
    "        \n",
    "plt.contourf(X, Y, Z)\n",
    "plt.savefig('task2_7_decision_boundaries.pdf')"
   ]
  },
  {
   "cell_type": "code",
   "execution_count": 5,
   "metadata": {},
   "outputs": [],
   "source": [
    "# task 2.8\n",
    "def task2_sNN_AB(X):\n",
    "    first_layer = [\n",
    "                    [1.0, 0.9541936586843557, -0.85493703875096], \n",
    "                    [-1.0, 0.2433319217436556, 0.1032862159048711], \n",
    "                    [-1.0, -0.14275094489266318, 0.4274526978329043], \n",
    "                    [1.0, -0.265467958624089, -0.061666696980078],\n",
    "                    [1.0, -0.19159285719085067, -0.04076000581289526], \n",
    "                    [-1.0, 0.24689693509583485, 0.2027403058246619], \n",
    "                    [-1.0, 0.1242531034272138, 0.2993280530205454], \n",
    "                    [1.0, 0.09236618495168845, -0.22632245296746664]\n",
    "    ]\n",
    "    \n",
    "    def make_big(vec):\n",
    "        return (numpy.asarray(vec)*1000.0).tolist()\n",
    "    \n",
    "    first_layer = [make_big(neuron) for neuron in first_layer]\n",
    "    \n",
    "    \n",
    "    second_layer = [\n",
    "                    make_big([-0.8, 0.25, 0.25, 0.25, 0.25, 0, 0, 0, 0]), \n",
    "                    make_big([-(1/2+1/16), 0, 0, 0, 0, 1/4, 1/8, 1/8, 1/4]),\n",
    "    ]\n",
    "    \n",
    "    final_neuron = make_big([-0.5, -1.0, 1.0])\n",
    "    \n",
    "    first_layer_results = [task2_sNeuron(listToColV(W), X) for W in first_layer]\n",
    "    first_layer_X = numpy.column_stack(first_layer_results)\n",
    "    \n",
    "    second_layer_results = [task2_sNeuron(listToColV(W), first_layer_X) for W in second_layer]\n",
    "    second_layer_X = numpy.column_stack(second_layer_results)\n",
    "    \n",
    "    final_result = task2_sNeuron(listToColV(final_neuron), second_layer_X)\n",
    "    \n",
    "    return final_result"
   ]
  },
  {
   "cell_type": "code",
   "execution_count": 8,
   "metadata": {},
   "outputs": [
    {
     "name": "stdout",
     "output_type": "stream",
     "text": [
      "-9389.22968829 6892.94658863\n",
      "-1426.32696354 1693.2362753\n",
      "-2277.67077462 2854.16200991\n",
      "-1654.26931121 1289.94258923\n",
      "-1464.70572601 626.470041026\n",
      "-2147.46068644 1899.27448184\n",
      "-1965.06809513 1847.1623129\n",
      "-2099.2082006 768.989540676\n",
      "-200.0 550.0\n",
      "-187.5 312.5\n",
      "-500.0 500.0\n"
     ]
    },
    {
     "data": {
      "image/png": "[encoded data removed]",
      "text/plain": [
       "<matplotlib.figure.Figure at 0x7f254580fe48>"
      ]
     },
     "metadata": {
      "needs_background": "light"
     },
     "output_type": "display_data"
    }
   ],
   "source": [
    "# task 2.9\n",
    "X_N, Y_N = 1000, 1000\n",
    "x = numpy.linspace(-2, 7, X_N)\n",
    "y = numpy.linspace(-2, 7, Y_N)\n",
    "\n",
    "X, Y = numpy.meshgrid(x, y)\n",
    "\n",
    "X_grid = []\n",
    "for i in range(Y_N):\n",
    "    for j in range(X_N):\n",
    "        X_grid.append([X.item(i,j), Y.item(i,j)])\n",
    "\n",
    "X_grid = numpy.asarray(X_grid)\n",
    "Y_grid = task2_sNN_AB(X_grid)\n",
    "\n",
    "Z = Y_grid.reshape((Y_N, X_N))\n",
    "        \n",
    "plt.contourf(X, Y, Z)\n",
    "plt.savefig('task2_9_decision_boundaries.pdf')"
   ]
  },
  {
   "cell_type": "code",
   "execution_count": 84,
   "metadata": {},
   "outputs": [
    {
     "data": {
      "text/plain": [
       "array([ 1.1354839e-4343], dtype=float128)"
      ]
     },
     "execution_count": 84,
     "metadata": {},
     "output_type": "execute_result"
    }
   ],
   "source": [
    "# task 2.10\n"
   ]
  }
 ],
 "metadata": {
  "kernelspec": {
   "display_name": "Python 3",
   "language": "python",
   "name": "python3"
  },
  "language_info": {
   "codemirror_mode": {
    "name": "ipython",
    "version": 3
   },
   "file_extension": ".py",
   "mimetype": "text/x-python",
   "name": "python",
   "nbconvert_exporter": "python",
   "pygments_lexer": "ipython3",
   "version": "3.6.8"
  }
 },
 "nbformat": 4,
 "nbformat_minor": 2
}
