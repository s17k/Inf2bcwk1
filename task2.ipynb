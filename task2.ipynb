{
 "cells": [
  {
   "cell_type": "code",
   "execution_count": 55,
   "metadata": {},
   "outputs": [],
   "source": [
    "import numpy\n",
    "import scipy.io\n",
    "import matplotlib.pyplot as plt\n",
    "plt.rcParams['figure.figsize'] = [4, 4]"
   ]
  },
  {
   "cell_type": "code",
   "execution_count": 27,
   "metadata": {},
   "outputs": [],
   "source": [
    "def task2_genNeuron(W, X, applied_fun):\n",
    "    \n",
    "    # adding a column of ones \n",
    "    X_o = numpy.c_[numpy.ones(len(X)), X]\n",
    "    \n",
    "    Y = X_o @ W\n",
    "    \n",
    "    # finally return Y with whatever function g is applied\n",
    "    return numpy.apply_along_axis(applied_fun, 0, Y)"
   ]
  },
  {
   "cell_type": "code",
   "execution_count": 28,
   "metadata": {},
   "outputs": [],
   "source": [
    "def task2_hNeuron(W, X):    \n",
    "    def step(x):\n",
    "        print(x)\n",
    "        return 1 * (x > 0)\n",
    "    return task2_genNeuron(W, X, step)\n",
    "\n",
    "def task2_sNeuron(W, X):\n",
    "    def g(x):\n",
    "        return 1/(1+numpy.exp(numpy.longdouble(-x)))\n",
    "    return task2_genNeuron(W, X, g)"
   ]
  },
  {
   "cell_type": "code",
   "execution_count": 24,
   "metadata": {},
   "outputs": [
    {
     "name": "stdout",
     "output_type": "stream",
     "text": [
      "orig:   y < -4.700511036979204 * x + 24.533853223436726\n",
      "tran:   0 < -4.700511036979204*x + -1*y + 24.533853223436726\n",
      "stan:   0 < -0.19159285719085067*x + -0.04076000581289526*y + 1.0\n",
      "orig:   y > -1.2177989674601823 * x + 4.932418326649072\n",
      "tran:   0 < 1.2177989674601823*x + 1*y + -4.932418326649072\n",
      "stan:   0 < 0.24689693509583485*x + 0.2027403058246619*y + -1.0\n",
      "orig:   y > -0.415106777241107 * x + 3.340816171116984\n",
      "tran:   0 < 0.415106777241107*x + 1*y + -3.340816171116984\n",
      "stan:   0 < 0.1242531034272138*x + 0.2993280530205454*y + -1.0\n",
      "orig:   y < 0.4081176380894294 * x + 4.418474556493729\n",
      "tran:   0 < 0.4081176380894294*x + -1*y + 4.418474556493729\n",
      "stan:   0 < 0.09236618495168845*x + -0.22632245296746664*y + 1.0\n",
      "[[1.0, -0.19159285719085067, -0.04076000581289526], [-1.0, 0.24689693509583485, 0.2027403058246619], [-1.0, 0.1242531034272138, 0.2993280530205454], [1.0, 0.09236618495168845, -0.22632245296746664]]\n",
      "[-0.8, 0.25, 0.25, 0.25, 0.25]\n"
     ]
    },
    {
     "data": {
      "image/png": "[encoded data removed]",
      "text/plain": [
       "<matplotlib.figure.Figure at 0x7f6ad251d438>"
      ]
     },
     "metadata": {
      "needs_background": "light"
     },
     "output_type": "display_data"
    }
   ],
   "source": [
    "coords2 = [(2.77561,4.26753),(2.45166, 3.90597), (2.72966, 3.25103), (2.99143, 3.33845)]\n",
    "coords = [(3.93753,6.02545), (5.62821, -1.92161), (1.98283, 2.51773), (-1.30907, 3.88422)]\n",
    "coords = coords + [coords[0]]\n",
    "coords2 = coords2 + [coords2[0]]\n",
    "\n",
    "xs = [c[0] for c in coords]\n",
    "ys = [c[1] for c in coords]\n",
    "\n",
    "xs2 = [c[0] for c in coords2]\n",
    "ys2 = [c[1] for c in coords2]\n",
    "\n",
    "first_layer = []\n",
    "for i in range(4):\n",
    "    dx = xs[i+1]-xs[i]\n",
    "    dy = ys[i+1]-ys[i]\n",
    "    a = dy/dx\n",
    "    b = ys[i] - a*xs[i]\n",
    "    print(f\"orig:   y {'<' if i in [0,3] else '>'} {a} * x + {b}\")\n",
    "    if i in [0,3]:\n",
    "        w0, wx, wy = b, a, (-1)\n",
    "    else:\n",
    "        w0, wx, wy = -b, -a, 1\n",
    "    \n",
    "    print(f'tran:   0 < {wx}*x + {wy}*y + {w0}')\n",
    "    norm_const = max(abs(wx),abs(wy),abs(w0))\n",
    "    wx, wy, w0 = wx/norm_const, wy/norm_const, w0/norm_const\n",
    "    print(f'stan:   0 < {wx}*x + {wy}*y + {w0}')\n",
    "    first_layer.append([w0,wx,wy])\n",
    "\n",
    "plt.plot(xs,ys, linewidth=4)\n",
    "plt.plot(xs2,ys2, linewidth=4)\n",
    "plt.savefig('task2_polygons.png')\n",
    "\n",
    "print(first_layer)\n",
    "upper_neuron = [-4/5, 1/4, 1/4, 1/4, 1/4]\n",
    "print(upper_neuron)"
   ]
  },
  {
   "cell_type": "code",
   "execution_count": 15,
   "metadata": {},
   "outputs": [],
   "source": [
    "# TODO !!! redo this so that A is here, not B\n",
    "\n",
    "with open('task2_hNN_A_weights.txt', 'w') as f:\n",
    "    # first layer\n",
    "    num=1\n",
    "    for w0, wx, wy in first_layer:\n",
    "        print(f'W({1},{num},{0}) : {w0}', file=f)\n",
    "        print(f'W({1},{num},{1}) : {wx}', file=f)\n",
    "        print(f'W({1},{num},{2}) : {wy}', file=f)\n",
    "        num += 1\n",
    "\n",
    "    # second layer\n",
    "    num=0\n",
    "    for w in upper_neuron:\n",
    "        print(f'W({2},{1},{num}) : {w}', file=f)\n",
    "        num += 1"
   ]
  },
  {
   "cell_type": "code",
   "execution_count": 29,
   "metadata": {},
   "outputs": [
    {
     "name": "stdout",
     "output_type": "stream",
     "text": [
      "[ 1.          0.56419192  0.5939689   0.58404324  0.95579504 -0.03426401\n",
      "  0.0512297   0.        ]\n",
      "[-1.         -0.05082568  0.05315976  0.01849794  0.0811689   0.02147467\n",
      "  0.01114605  0.11617154]\n",
      "[-1.          0.05371654  0.13912707  0.11065689  0.02508634  0.35293343\n",
      "  0.31018816  0.42794626]\n",
      "[  1.00000000e+00   1.32830003e-01   3.46896067e-02   6.74030723e-02\n",
      "  -6.07064560e-03   8.96633155e-02   9.58299852e-02   1.11022302e-16]\n",
      "[-0.3  -0.05  0.2   0.2  -0.05 -0.05  0.2  -0.05]\n",
      "[[0]\n",
      " [0]\n",
      " [1]\n",
      " [1]\n",
      " [0]\n",
      " [0]\n",
      " [1]\n",
      " [0]]\n"
     ]
    }
   ],
   "source": [
    "def listToColV(li):\n",
    "    return numpy.asarray(li).reshape(-1,1)\n",
    "\n",
    "# task 2.4\n",
    "def task2_hNN_A(X):\n",
    "    first_layer = [[1.0, 0.9541936586843557, -0.85493703875096],\n",
    "                   [-1.0, 0.2433319217436556, 0.1032862159048711],\n",
    "                   [-1.0, -0.14275094489266318, 0.4274526978329043], \n",
    "                   [1.0, -0.265467958624089, -0.061666696980078]]\n",
    "    upper_neuron = [-0.8, 0.25, 0.25, 0.25, 0.25]\n",
    "    \n",
    "   \n",
    "    first_layer_results = [task2_hNeuron(listToColV(W), X) for W in first_layer]\n",
    "    first_layer_X = numpy.column_stack(first_layer_results)\n",
    "    final_result = task2_hNeuron(listToColV(upper_neuron), first_layer_X)\n",
    "    return final_result\n",
    "\n",
    "X_test = numpy.vstack((numpy.array((0.0, 0.0)), \n",
    "                       numpy.array((2.5, 3.3)), \n",
    "                       numpy.array((2.8, 3.6)), \n",
    "                       numpy.array((2.7, 3.5)),\n",
    "                       numpy.array((3.0, 3.4)),\n",
    "                       numpy.array((2.5, 4.0)),\n",
    "                       numpy.array((2.5, 3.9)),\n",
    "                       numpy.array((2.77561,4.26753))\n",
    "                      ))\n",
    "Z = task2_hNN_A(X_test)\n",
    "print(Z)\n",
    "Zs = [z[0] for z in Z]"
   ]
  },
  {
   "cell_type": "code",
   "execution_count": 30,
   "metadata": {},
   "outputs": [
    {
     "name": "stdout",
     "output_type": "stream",
     "text": [
      "[ 0.72525366  0.72592227  0.72659087 ...,  0.10944646  0.11011506\n",
      "  0.11078367]\n",
      "[-0.10614474 -0.10597424 -0.10580373 ...,  0.21877592  0.21894643\n",
      "  0.21911693]\n",
      "[-0.06024417 -0.0603442  -0.06044423 ...,  0.48120926  0.48110924\n",
      "  0.48100921]\n",
      "[ 0.17787681  0.17769079  0.17750478 ..., -0.10007878 -0.10026479\n",
      " -0.10045081]\n",
      "[-0.3  -0.3  -0.3  ..., -0.05 -0.05 -0.05]\n"
     ]
    },
    {
     "data": {
      "image/png": "[encoded data removed]",
      "text/plain": [
       "<matplotlib.figure.Figure at 0x7f55607b0470>"
      ]
     },
     "metadata": {
      "needs_background": "light"
     },
     "output_type": "display_data"
    }
   ],
   "source": [
    "# task 2.5\n",
    "X_N, Y_N = 1000, 1000\n",
    "x = numpy.linspace(2.4, 3.1, X_N)\n",
    "y = numpy.linspace(3.0, 4.5, Y_N)\n",
    "\n",
    "X, Y = numpy.meshgrid(x, y)\n",
    "\n",
    "X_grid = []\n",
    "for i in range(Y_N):\n",
    "    for j in range(X_N):\n",
    "        X_grid.append([X.item(i,j), Y.item(i,j)])\n",
    "\n",
    "X_grid = numpy.asarray(X_grid)\n",
    "Y_grid = task2_hNN_A(X_grid)\n",
    "\n",
    "Z = Y_grid.reshape((Y_N, X_N))\n",
    "        \n",
    "plt.contourf(X, Y, Z)\n",
    "plt.savefig('t2_regions_hNN_A.pdf')"
   ]
  },
  {
   "cell_type": "code",
   "execution_count": 31,
   "metadata": {},
   "outputs": [],
   "source": [
    "# task 2.6\n",
    "def task2_hNN_AB(X):\n",
    "    first_layer = [\n",
    "                    [1.0, 0.9541936586843557, -0.85493703875096], \n",
    "                    [-1.0, 0.2433319217436556, 0.1032862159048711], \n",
    "                    [-1.0, -0.14275094489266318, 0.4274526978329043], \n",
    "                    [1.0, -0.265467958624089, -0.061666696980078],\n",
    "                    [1.0, -0.19159285719085067, -0.04076000581289526], \n",
    "                    [-1.0, 0.24689693509583485, 0.2027403058246619], \n",
    "                    [-1.0, 0.1242531034272138, 0.2993280530205454], \n",
    "                    [1.0, 0.09236618495168845, -0.22632245296746664]\n",
    "    ]\n",
    "    \n",
    "    second_layer = [\n",
    "                    [-0.8, 0.25, 0.25, 0.25, 0.25, 0, 0, 0, 0], \n",
    "                    [-(1/2+1/16), 0, 0, 0, 0, 1/4, 1/8, 1/8, 1/4]\n",
    "    ]\n",
    "    \n",
    "    final_neuron = [-0.5, -1.0, 1.0]\n",
    "    \n",
    "    first_layer_results = [task2_hNeuron(listToColV(W), X) for W in first_layer]\n",
    "    first_layer_X = numpy.column_stack(first_layer_results)\n",
    "    \n",
    "    second_layer_results = [task2_hNeuron(listToColV(W), first_layer_X) for W in second_layer]\n",
    "    second_layer_X = numpy.column_stack(second_layer_results)\n",
    "    \n",
    "    final_result = task2_hNeuron(listToColV(final_neuron), second_layer_X)\n",
    "    \n",
    "    return final_result"
   ]
  },
  {
   "cell_type": "code",
   "execution_count": 58,
   "metadata": {},
   "outputs": [
    {
     "name": "stdout",
     "output_type": "stream",
     "text": [
      "[-3.54577598 -3.54572822 -3.54568046 ..., -3.54090866 -3.5408609\n",
      " -3.54081315]\n",
      "[-0.92059646 -0.92058428 -0.9205721  ..., -0.90328991 -0.90327773\n",
      " -0.90326555]\n",
      "[ 0.83483389  0.83482674  0.8348196  ...,  0.84908326  0.84907612\n",
      "  0.84906898]\n",
      "[ 1.11003791  1.11002462  1.11001134 ...,  1.09370775  1.09369446\n",
      "  1.09368118]\n",
      "[ 1.09385682  1.09384723  1.09383764 ...,  1.08225836  1.08224877\n",
      "  1.08223918]\n",
      "[-0.54187111 -0.54185875 -0.54184639 ..., -0.51941396 -0.5194016\n",
      " -0.51938924]\n",
      "[-0.00886192 -0.0088557  -0.00884948 ...,  0.0123047   0.01231092\n",
      "  0.01231714]\n",
      "[ 0.00652724  0.00653186  0.00653649 ..., -0.00017982 -0.00017519\n",
      " -0.00017057]\n",
      "[-0.3 -0.3 -0.3 ..., -0.3 -0.3 -0.3]\n",
      "[-0.0625 -0.0625 -0.0625 ..., -0.1875 -0.1875 -0.1875]\n",
      "[-0.5 -0.5 -0.5 ..., -0.5 -0.5 -0.5]\n"
     ]
    },
    {
     "data": {
      "image/png": "[encoded data removed]",
      "text/plain": [
       "<matplotlib.figure.Figure at 0x7f55607ab780>"
      ]
     },
     "metadata": {
      "needs_background": "light"
     },
     "output_type": "display_data"
    }
   ],
   "source": [
    "# task 2.7\n",
    "X_N, Y_N = 1000, 1000\n",
    "x = numpy.linspace(-2, 7, X_N)\n",
    "y = numpy.linspace(-2, 7, Y_N)\n",
    "\n",
    "X, Y = numpy.meshgrid(x, y)\n",
    "\n",
    "X_grid = []\n",
    "for i in range(Y_N):\n",
    "    for j in range(X_N):\n",
    "        X_grid.append([X.item(i,j), Y.item(i,j)])\n",
    "\n",
    "X_grid = numpy.asarray(X_grid)\n",
    "Y_grid = task2_hNN_AB(X_grid)\n",
    "\n",
    "Z = Y_grid.reshape((Y_N, X_N))\n",
    "        \n",
    "plt.contourf(X, Y, Z)\n",
    "plt.savefig('t2_regions_hNN_AB.pdf')"
   ]
  },
  {
   "cell_type": "code",
   "execution_count": null,
   "metadata": {},
   "outputs": [],
   "source": [
    "x = numpy.linspace(-1.31, -1.31+0.1/2, X_N)\n",
    "y = numpy.linspace(3.88-0.05/2, 3.88+0.05/2, Y_N)"
   ]
  },
  {
   "cell_type": "code",
   "execution_count": 33,
   "metadata": {},
   "outputs": [],
   "source": [
    "# task 2.8\n",
    "def task2_sNN_AB(X):\n",
    "    first_layer = [\n",
    "                    [1.0, 0.9541936586843557, -0.85493703875096], \n",
    "                    [-1.0, 0.2433319217436556, 0.1032862159048711], \n",
    "                    [-1.0, -0.14275094489266318, 0.4274526978329043], \n",
    "                    [1.0, -0.265467958624089, -0.061666696980078],\n",
    "                    [1.0, -0.19159285719085067, -0.04076000581289526], \n",
    "                    [-1.0, 0.24689693509583485, 0.2027403058246619], \n",
    "                    [-1.0, 0.1242531034272138, 0.2993280530205454], \n",
    "                    [1.0, 0.09236618495168845, -0.22632245296746664]\n",
    "    ]\n",
    "    \n",
    "    def make_big(vec):\n",
    "        return (numpy.asarray(vec)*1000.0).tolist()\n",
    "    \n",
    "    first_layer = [make_big(neuron) for neuron in first_layer]\n",
    "    \n",
    "    \n",
    "    second_layer = [\n",
    "                    make_big([-0.8, 0.25, 0.25, 0.25, 0.25, 0, 0, 0, 0]), \n",
    "                    make_big([-(1/2+1/16), 0, 0, 0, 0, 1/4, 1/8, 1/8, 1/4]),\n",
    "    ]\n",
    "    \n",
    "    final_neuron = make_big([-0.5, -1.0, 1.0])\n",
    "    \n",
    "    first_layer_results = [task2_sNeuron(listToColV(W), X) for W in first_layer]\n",
    "    first_layer_X = numpy.column_stack(first_layer_results)\n",
    "    \n",
    "    second_layer_results = [task2_sNeuron(listToColV(W), first_layer_X) for W in second_layer]\n",
    "    second_layer_X = numpy.column_stack(second_layer_results)\n",
    "    \n",
    "    final_result = task2_sNeuron(listToColV(final_neuron), second_layer_X)\n",
    "    \n",
    "    return final_result"
   ]
  },
  {
   "cell_type": "code",
   "execution_count": 59,
   "metadata": {},
   "outputs": [
    {
     "data": {
      "image/png": "[encoded data removed]",
      "text/plain": [
       "<matplotlib.figure.Figure at 0x7f55607ab748>"
      ]
     },
     "metadata": {
      "needs_background": "light"
     },
     "output_type": "display_data"
    }
   ],
   "source": [
    "# task 2.9\n",
    "X_N, Y_N = 1000, 1000\n",
    "x = numpy.linspace(-2, 7, X_N)\n",
    "y = numpy.linspace(-2, 7, Y_N)\n",
    "\n",
    "X, Y = numpy.meshgrid(x, y)\n",
    "\n",
    "X_grid = []\n",
    "for i in range(Y_N):\n",
    "    for j in range(X_N):\n",
    "        X_grid.append([X.item(i,j), Y.item(i,j)])\n",
    "\n",
    "X_grid = numpy.asarray(X_grid)\n",
    "Y_grid = task2_sNN_AB(X_grid)\n",
    "\n",
    "Z = Y_grid.reshape((Y_N, X_N))\n",
    "        \n",
    "plt.contourf(X, Y, Z)\n",
    "plt.savefig('t2_regions_sNN_AB.pdf')"
   ]
  },
  {
   "cell_type": "code",
   "execution_count": 22,
   "metadata": {},
   "outputs": [
    {
     "name": "stderr",
     "output_type": "stream",
     "text": [
      "/usr/lib/python3/dist-packages/matplotlib/cbook/deprecation.py:106: MatplotlibDeprecationWarning: Adding an axes using the same arguments as a previous axes currently reuses the earlier instance.  In a future version, a new instance will always be created and returned.  Meanwhile, this warning can be suppressed, and the future behavior ensured, by passing a unique label to each axes instance.\n",
      "  warnings.warn(message, mplDeprecation, stacklevel=1)\n"
     ]
    },
    {
     "data": {
      "image/png": "[encoded data removed]",
      "text/plain": [
       "<matplotlib.figure.Figure at 0x7f55608157b8>"
      ]
     },
     "metadata": {
      "needs_background": "light"
     },
     "output_type": "display_data"
    },
    {
     "name": "stderr",
     "output_type": "stream",
     "text": [
      "/usr/local/lib/python3.6/dist-packages/ipykernel_launcher.py:15: RuntimeWarning: overflow encountered in exp\n",
      "  from ipykernel import kernelapp as app\n"
     ]
    },
    {
     "data": {
      "image/png": "[encoded data removed]",
      "text/plain": [
       "<matplotlib.figure.Figure at 0x7f556080a2b0>"
      ]
     },
     "metadata": {
      "needs_background": "light"
     },
     "output_type": "display_data"
    }
   ],
   "source": [
    "# task 2.10\n",
    "X = numpy.asarray(numpy.linspace(-10,10,1000*1000))\n",
    "Y = 1/(1+numpy.exp(-X))\n",
    "plt.plot(X,Y)\n",
    "fig = plt.axes()\n",
    "fig.set_xlabel('x')\n",
    "fig.set_ylabel('1/(1+exp(-x))')\n",
    "plt.savefig('sigmo_first.png')\n",
    "plt.show()\n",
    "\n",
    "X = numpy.asarray(numpy.linspace(-10,10,1000*1000))\n",
    "fig = plt.axes()\n",
    "fig.set_xlabel('x')\n",
    "fig.set_ylabel('1/(1+exp(-1000*x))')\n",
    "Y = 1/(1+numpy.exp(-1000*X))\n",
    "plt.plot(X,Y)\n",
    "plt.savefig('sigmo_second.png')"
   ]
  },
  {
   "cell_type": "code",
   "execution_count": null,
   "metadata": {},
   "outputs": [],
   "source": []
  }
 ],
 "metadata": {
  "kernelspec": {
   "display_name": "Python 3",
   "language": "python",
   "name": "python3"
  },
  "language_info": {
   "codemirror_mode": {
    "name": "ipython",
    "version": 3
   },
   "file_extension": ".py",
   "mimetype": "text/x-python",
   "name": "python",
   "nbconvert_exporter": "python",
   "pygments_lexer": "ipython3",
   "version": "3.6.8"
  }
 },
 "nbformat": 4,
 "nbformat_minor": 2
}
